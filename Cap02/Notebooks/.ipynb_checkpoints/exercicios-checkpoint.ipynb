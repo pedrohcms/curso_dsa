{
 "cells": [
  {
   "cell_type": "code",
   "execution_count": 1,
   "metadata": {},
   "outputs": [
    {
     "name": "stdout",
     "output_type": "stream",
     "text": [
      "[1, 2, 3, 4, 5, 6, 7, 8, 9, 10]\n"
     ]
    }
   ],
   "source": [
    "#1\n",
    "print([1, 2, 3, 4, 5, 6, 7, 8, 9, 10])"
   ]
  },
  {
   "cell_type": "code",
   "execution_count": 3,
   "metadata": {},
   "outputs": [
    {
     "name": "stdout",
     "output_type": "stream",
     "text": [
      "[['arroz', 'feijão'], {'salada': 'tomate'}, ('parmegiana', 'bife'), ['batata frita'], 'pure']\n"
     ]
    }
   ],
   "source": [
    "#2\n",
    "print([['arroz', 'feijão'], {'salada': 'tomate'}, ('parmegiana', 'bife'), ['batata frita'], ('pure')])"
   ]
  },
  {
   "cell_type": "code",
   "execution_count": 5,
   "metadata": {},
   "outputs": [
    {
     "data": {
      "text/plain": [
       "'Pedro Henrique Correa Mota da Silva'"
      ]
     },
     "execution_count": 5,
     "metadata": {},
     "output_type": "execute_result"
    }
   ],
   "source": [
    "#3\n",
    "nome = 'Pedro Henrique'\n",
    "sobrenome = ' Correa Mota da Silva'\n",
    "nome_completo = nome + sobrenome\n",
    "nome_completo"
   ]
  },
  {
   "cell_type": "code",
   "execution_count": 8,
   "metadata": {},
   "outputs": [
    {
     "data": {
      "text/plain": [
       "3"
      ]
     },
     "execution_count": 8,
     "metadata": {},
     "output_type": "execute_result"
    }
   ],
   "source": [
    "#4\n",
    "tupla = (1, 2, 3, 4, 4, 4, 5)\n",
    "tupla.count(4)"
   ]
  },
  {
   "cell_type": "code",
   "execution_count": 11,
   "metadata": {},
   "outputs": [
    {
     "data": {
      "text/plain": [
       "{}"
      ]
     },
     "execution_count": 11,
     "metadata": {},
     "output_type": "execute_result"
    }
   ],
   "source": [
    "#5\n",
    "dict = {}\n",
    "dict"
   ]
  },
  {
   "cell_type": "code",
   "execution_count": 13,
   "metadata": {},
   "outputs": [
    {
     "data": {
      "text/plain": [
       "{'mistura': 'bife',\n",
       " 'acompanhameto': 'batata frita',\n",
       " 'salada': 'alface e tomate'}"
      ]
     },
     "execution_count": 13,
     "metadata": {},
     "output_type": "execute_result"
    }
   ],
   "source": [
    "#6\n",
    "comida = {'mistura': 'bife', 'acompanhameto': 'batata frita', 'salada': 'alface e tomate'}\n",
    "comida"
   ]
  },
  {
   "cell_type": "code",
   "execution_count": 16,
   "metadata": {},
   "outputs": [
    {
     "data": {
      "text/plain": [
       "{'mistura': 'bife',\n",
       " 'acompanhameto': 'batata frita',\n",
       " 'salada': 'alface e tomate',\n",
       " 'feijão': 'carioca'}"
      ]
     },
     "execution_count": 16,
     "metadata": {},
     "output_type": "execute_result"
    }
   ],
   "source": [
    "#7\n",
    "comida['feijão'] = 'carioca'\n",
    "comida"
   ]
  },
  {
   "cell_type": "code",
   "execution_count": 17,
   "metadata": {},
   "outputs": [
    {
     "data": {
      "text/plain": [
       "{'arroz': 'branco',\n",
       " 'mistura': 'filé de frango',\n",
       " 'salada': ['alface', 'tomate']}"
      ]
     },
     "execution_count": 17,
     "metadata": {},
     "output_type": "execute_result"
    }
   ],
   "source": [
    "#8\n",
    "comida2 = {\n",
    "    'arroz': 'branco',\n",
    "    'mistura': 'filé de frango',\n",
    "    'salada': ['alface', 'tomate']\n",
    "}\n",
    "comida2"
   ]
  },
  {
   "cell_type": "code",
   "execution_count": 18,
   "metadata": {},
   "outputs": [
    {
     "data": {
      "text/plain": [
       "['Hello World',\n",
       " ('Entaro', 'Adun'),\n",
       " {'tank': 'Orisa', 'Suporte': 'Baptiste'},\n",
       " 15.9]"
      ]
     },
     "execution_count": 18,
     "metadata": {},
     "output_type": "execute_result"
    }
   ],
   "source": [
    "#9\n",
    "list = [\n",
    "    'Hello World',\n",
    "    ('Entaro', 'Adun'),\n",
    "    {\n",
    "        'tank': 'Orisa',\n",
    "        'Suporte': 'Baptiste'\n",
    "    },\n",
    "    15.90\n",
    "]\n",
    "list"
   ]
  },
  {
   "cell_type": "code",
   "execution_count": 25,
   "metadata": {},
   "outputs": [
    {
     "data": {
      "text/plain": [
       "'ientista de Dados '"
      ]
     },
     "execution_count": 25,
     "metadata": {},
     "output_type": "execute_result"
    }
   ],
   "source": [
    "#10\n",
    "frase = 'Cientista de Dados é o profissional mais sexy do século XXI'\n",
    "frase[1:19]"
   ]
  }
 ],
 "metadata": {
  "kernelspec": {
   "display_name": "Python 3",
   "language": "python",
   "name": "python3"
  },
  "language_info": {
   "codemirror_mode": {
    "name": "ipython",
    "version": 3
   },
   "file_extension": ".py",
   "mimetype": "text/x-python",
   "name": "python",
   "nbconvert_exporter": "python",
   "pygments_lexer": "ipython3",
   "version": "3.7.5"
  }
 },
 "nbformat": 4,
 "nbformat_minor": 2
}
