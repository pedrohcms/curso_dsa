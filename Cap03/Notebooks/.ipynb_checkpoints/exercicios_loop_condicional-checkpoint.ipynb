{
 "cells": [
  {
   "cell_type": "code",
   "execution_count": 6,
   "metadata": {},
   "outputs": [
    {
     "name": "stdout",
     "output_type": "stream",
     "text": [
      "Entre com o dia da semana: Segunda\n",
      "Você precisa trabalhar\n"
     ]
    }
   ],
   "source": [
    "#1\n",
    "dia = input('Entre com o dia da semana: ')\n",
    "\n",
    "if (dia == 'Sábado') or (dia == 'Domingo'):\n",
    "    print('Hoje é dia de descanço')\n",
    "else:\n",
    "    print('Você precisa trabalhar')"
   ]
  },
  {
   "cell_type": "code",
   "execution_count": 13,
   "metadata": {},
   "outputs": [
    {
     "name": "stdout",
     "output_type": "stream",
     "text": [
      "True\n"
     ]
    }
   ],
   "source": [
    "#2\n",
    "frutas = ['Morango', 'Abacaxi', 'Abacate', 'Banana', 'Maça']\n",
    "\n",
    "for i in frutas:\n",
    "    if i == 'Morango':\n",
    "        print(True)"
   ]
  },
  {
   "cell_type": "code",
   "execution_count": 14,
   "metadata": {},
   "outputs": [
    {
     "name": "stdout",
     "output_type": "stream",
     "text": [
      "[4, 10, 16, 20]\n"
     ]
    }
   ],
   "source": [
    "#3\n",
    "tp = (2, 5, 8, 10)\n",
    "list = []\n",
    "for i in tp:\n",
    "    list.append(i * 2)\n",
    "    \n",
    "print(list)"
   ]
  },
  {
   "cell_type": "code",
   "execution_count": 24,
   "metadata": {},
   "outputs": [
    {
     "name": "stdout",
     "output_type": "stream",
     "text": [
      "100\n",
      "102\n",
      "104\n",
      "106\n",
      "108\n",
      "110\n",
      "112\n",
      "114\n",
      "116\n",
      "118\n",
      "120\n",
      "122\n",
      "124\n",
      "126\n",
      "128\n",
      "130\n",
      "132\n",
      "134\n",
      "136\n",
      "138\n",
      "140\n",
      "142\n",
      "144\n",
      "146\n",
      "148\n",
      "150\n"
     ]
    }
   ],
   "source": [
    "#4\n",
    "for i in range(100, 151, 2):\n",
    "    print(i)"
   ]
  },
  {
   "cell_type": "code",
   "execution_count": 16,
   "metadata": {},
   "outputs": [
    {
     "name": "stdout",
     "output_type": "stream",
     "text": [
      "40\n",
      "39\n",
      "38\n",
      "37\n",
      "36\n"
     ]
    }
   ],
   "source": [
    "#5\n",
    "temp = 40\n",
    "while temp > 35:\n",
    "    print(temp)\n",
    "    temp -= 1"
   ]
  },
  {
   "cell_type": "code",
   "execution_count": 25,
   "metadata": {},
   "outputs": [
    {
     "name": "stdout",
     "output_type": "stream",
     "text": [
      "0\n",
      "1\n",
      "2\n",
      "3\n",
      "4\n",
      "5\n",
      "6\n",
      "7\n",
      "8\n",
      "9\n",
      "10\n",
      "11\n",
      "12\n",
      "13\n",
      "14\n",
      "15\n",
      "16\n",
      "17\n",
      "18\n",
      "19\n",
      "20\n",
      "21\n",
      "22\n"
     ]
    }
   ],
   "source": [
    "#6\n",
    "counter = 0\n",
    "\n",
    "while counter < 100:\n",
    "    \n",
    "    if counter == 23:\n",
    "        break\n",
    "    \n",
    "    print(counter)    \n",
    "    counter += 1"
   ]
  },
  {
   "cell_type": "code",
   "execution_count": 26,
   "metadata": {},
   "outputs": [
    {
     "name": "stdout",
     "output_type": "stream",
     "text": [
      "[4, 6, 8, 10, 12, 14, 16, 18, 20]\n"
     ]
    }
   ],
   "source": [
    "#7\n",
    "var = 4\n",
    "list = []\n",
    "\n",
    "for i in range(var, 21, 2):\n",
    "    list.append(i)\n",
    "\n",
    "print(list)"
   ]
  },
  {
   "cell_type": "code",
   "execution_count": 30,
   "metadata": {},
   "outputs": [
    {
     "name": "stdout",
     "output_type": "stream",
     "text": [
      "[5, 7, 9, 11, 13, 15, 17, 19, 21, 23, 25, 27, 29, 31, 33, 35, 37, 39, 41, 43]\n"
     ]
    }
   ],
   "source": [
    "#8\n",
    "nums = []\n",
    "\n",
    "for i in range(5, 45, 2):\n",
    "    nums.append(i)\n",
    "    \n",
    "print(nums)"
   ]
  },
  {
   "cell_type": "code",
   "execution_count": 21,
   "metadata": {},
   "outputs": [
    {
     "name": "stdout",
     "output_type": "stream",
     "text": [
      "Qual a temperatura: 40\n",
      "Vista roupas leves.\n"
     ]
    }
   ],
   "source": [
    "#9\n",
    "temperatura = float(input('Qual a temperatura: '))\n",
    "\n",
    "if temperatura > 30:\n",
    "    print('Vista roupas leves.')\n",
    "else:\n",
    "    print('Busque seus casacos.')"
   ]
  },
  {
   "cell_type": "code",
   "execution_count": 23,
   "metadata": {},
   "outputs": [
    {
     "name": "stdout",
     "output_type": "stream",
     "text": [
      "Existe um total de 6 ocorrências do caractere 'r'\n"
     ]
    }
   ],
   "source": [
    "#10\n",
    "frase = \"\"\"É melhor, muito melhor, contentar-se com a realidade; se ela não é tão brilhante como os sonhos, tem pelo menos \n",
    "        a vantagem de existir.\"\"\"\n",
    "count = 0\n",
    "\n",
    "for i in frase:\n",
    "    if i == 'r':\n",
    "        count += 1\n",
    "\n",
    "print('Existe um total de %d ocorrências do caractere \\'r\\'' %(count))"
   ]
  }
 ],
 "metadata": {
  "kernelspec": {
   "display_name": "Python 3",
   "language": "python",
   "name": "python3"
  },
  "language_info": {
   "codemirror_mode": {
    "name": "ipython",
    "version": 3
   },
   "file_extension": ".py",
   "mimetype": "text/x-python",
   "name": "python",
   "nbconvert_exporter": "python",
   "pygments_lexer": "ipython3",
   "version": "3.7.5"
  }
 },
 "nbformat": 4,
 "nbformat_minor": 2
}
