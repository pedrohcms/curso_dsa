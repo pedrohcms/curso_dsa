{
 "cells": [
  {
   "cell_type": "code",
   "execution_count": 1,
   "metadata": {},
   "outputs": [
    {
     "name": "stdout",
     "output_type": "stream",
     "text": [
      "0\n",
      "1\n",
      "2\n",
      "3\n",
      "4\n",
      "5\n",
      "6\n",
      "7\n",
      "8\n",
      "9\n"
     ]
    }
   ],
   "source": [
    "counter = 0\n",
    "while counter < 10:\n",
    "    print(counter)\n",
    "    counter += 1"
   ]
  },
  {
   "cell_type": "code",
   "execution_count": 3,
   "metadata": {},
   "outputs": [
    {
     "name": "stdout",
     "output_type": "stream",
     "text": [
      "O valor de x é: 0\n",
      "O valor de x é: 1\n",
      "O valor de x é: 2\n",
      "O valor de x é: 3\n",
      "O valor de x é: 4\n",
      "O valor de x é: 5\n",
      "O valor de x é: 6\n",
      "O valor de x é: 7\n",
      "O valor de x é: 8\n",
      "O valor de x é: 9\n",
      "Loop Concluído\n"
     ]
    }
   ],
   "source": [
    "#Em python existe else em while?!\n",
    "x = 0\n",
    "while x < 10:\n",
    "    print('O valor de x é:', x)\n",
    "    x += 1\n",
    "else:\n",
    "    print('Loop Concluído')"
   ]
  },
  {
   "cell_type": "code",
   "execution_count": 6,
   "metadata": {},
   "outputs": [
    {
     "name": "stdout",
     "output_type": "stream",
     "text": [
      "0\n",
      "1\n",
      "2\n",
      "3\n"
     ]
    }
   ],
   "source": [
    "counter = 0\n",
    "while counter < 100:\n",
    "    if counter == 4:\n",
    "        break\n",
    "    else:\n",
    "        pass\n",
    "    print(counter)\n",
    "    counter += 1"
   ]
  },
  {
   "cell_type": "code",
   "execution_count": 7,
   "metadata": {},
   "outputs": [
    {
     "name": "stdout",
     "output_type": "stream",
     "text": [
      "P\n",
      "y\n",
      "t\n",
      "o\n",
      "n\n"
     ]
    }
   ],
   "source": [
    "# continue pula uma iteração\n",
    "for verificador in 'Python':\n",
    "    if verificador == 'h':\n",
    "        continue\n",
    "    print(verificador)"
   ]
  },
  {
   "cell_type": "code",
   "execution_count": 9,
   "metadata": {},
   "outputs": [
    {
     "name": "stdout",
     "output_type": "stream",
     "text": [
      "2 é um número primo\n",
      "3 é um número primo\n",
      "5 é um número primo\n",
      "7 é um número primo\n",
      "11 é um número primo\n",
      "13 é um número primo\n",
      "17 é um número primo\n",
      "19 é um número primo\n",
      "23 é um número primo\n",
      "29 é um número primo\n"
     ]
    }
   ],
   "source": [
    "for i in range(2, 30):\n",
    "    j = 2\n",
    "    counter = 0\n",
    "    while j < i:\n",
    "        if i % j == 0:\n",
    "            counter = 1\n",
    "            j += 1\n",
    "        else:\n",
    "            j += 1\n",
    "    if counter == 0:\n",
    "        print(str(i) + ' é um número primo')\n",
    "        counter = 0\n",
    "    else:\n",
    "        counter = 0"
   ]
  }
 ],
 "metadata": {
  "kernelspec": {
   "display_name": "Python 3",
   "language": "python",
   "name": "python3"
  },
  "language_info": {
   "codemirror_mode": {
    "name": "ipython",
    "version": 3
   },
   "file_extension": ".py",
   "mimetype": "text/x-python",
   "name": "python",
   "nbconvert_exporter": "python",
   "pygments_lexer": "ipython3",
   "version": "3.7.5"
  }
 },
 "nbformat": 4,
 "nbformat_minor": 2
}
