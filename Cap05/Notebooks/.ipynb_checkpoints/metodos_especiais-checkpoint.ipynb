{
 "cells": [
  {
   "cell_type": "code",
   "execution_count": 1,
   "metadata": {},
   "outputs": [],
   "source": [
    "class Livro():\n",
    "    \n",
    "    def __init__(self, titulo, autor, paginas):\n",
    "        self.titulo = titulo\n",
    "        self.autor = autor\n",
    "        self.paginas = paginas\n",
    "        \n",
    "    def __str__(self):\n",
    "        return 'Título: %s, autor %s, páginas: %s' %(self.titulo, self.autor, self.paginas)\n",
    "    \n",
    "    def __len__(self):\n",
    "        return self.paginas\n",
    "    \n",
    "    def len(self):\n",
    "        return print('Páginas do livro com métodos comum: ', self.paginas)"
   ]
  },
  {
   "cell_type": "code",
   "execution_count": 2,
   "metadata": {},
   "outputs": [],
   "source": [
    "livro1 = Livro('Os Lusíadas', 'Luis de Camões', 8816)"
   ]
  },
  {
   "cell_type": "code",
   "execution_count": 3,
   "metadata": {},
   "outputs": [
    {
     "name": "stdout",
     "output_type": "stream",
     "text": [
      "Título: Os Lusíadas, autor Luis de Camões, páginas: 8816\n"
     ]
    }
   ],
   "source": [
    "print(livro1) # O método especial __str__ é chamado quando usamos o comando print()"
   ]
  },
  {
   "cell_type": "code",
   "execution_count": 4,
   "metadata": {},
   "outputs": [
    {
     "data": {
      "text/plain": [
       "'Título: Os Lusíadas, autor Luis de Camões, páginas: 8816'"
      ]
     },
     "execution_count": 4,
     "metadata": {},
     "output_type": "execute_result"
    }
   ],
   "source": [
    "str(livro1) # O método especial __str__ foi chamado"
   ]
  },
  {
   "cell_type": "code",
   "execution_count": 5,
   "metadata": {},
   "outputs": [
    {
     "data": {
      "text/plain": [
       "8816"
      ]
     },
     "execution_count": 5,
     "metadata": {},
     "output_type": "execute_result"
    }
   ],
   "source": [
    "len(livro1) # Chamou o método especial __len()__"
   ]
  },
  {
   "cell_type": "code",
   "execution_count": 6,
   "metadata": {},
   "outputs": [
    {
     "name": "stdout",
     "output_type": "stream",
     "text": [
      "Páginas do livro com métodos comum:  8816\n"
     ]
    }
   ],
   "source": [
    "livro1.len()"
   ]
  },
  {
   "cell_type": "code",
   "execution_count": 7,
   "metadata": {},
   "outputs": [],
   "source": [
    "del livro1.paginas\n",
    "# Ao rodar esse comando o python roda o seguinte comando:\n",
    "# livro1__delattr__('paginas')"
   ]
  },
  {
   "cell_type": "code",
   "execution_count": 8,
   "metadata": {},
   "outputs": [
    {
     "data": {
      "text/plain": [
       "False"
      ]
     },
     "execution_count": 8,
     "metadata": {},
     "output_type": "execute_result"
    }
   ],
   "source": [
    "hasattr(livro1, 'paginas')"
   ]
  }
 ],
 "metadata": {
  "kernelspec": {
   "display_name": "Python 3",
   "language": "python",
   "name": "python3"
  },
  "language_info": {
   "codemirror_mode": {
    "name": "ipython",
    "version": 3
   },
   "file_extension": ".py",
   "mimetype": "text/x-python",
   "name": "python",
   "nbconvert_exporter": "python",
   "pygments_lexer": "ipython3",
   "version": "3.7.5"
  }
 },
 "nbformat": 4,
 "nbformat_minor": 2
}
