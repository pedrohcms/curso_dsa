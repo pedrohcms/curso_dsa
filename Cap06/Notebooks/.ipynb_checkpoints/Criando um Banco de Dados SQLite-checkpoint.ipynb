{
 "cells": [
  {
   "cell_type": "code",
   "execution_count": 2,
   "metadata": {},
   "outputs": [],
   "source": [
    "# Removemos o arquivo do banco de dados caso exista\n",
    "import os\n",
    "os.remove(\"escola.db\") if os.path.exists(\"escola.db\") else None"
   ]
  },
  {
   "cell_type": "code",
   "execution_count": 3,
   "metadata": {},
   "outputs": [],
   "source": [
    "import sqlite3"
   ]
  },
  {
   "cell_type": "code",
   "execution_count": 4,
   "metadata": {},
   "outputs": [],
   "source": [
    "# Cria a conexão com o banco de dados, caso ele não exista, será criado agora.\n",
    "con = sqlite3.connect('escola.db')"
   ]
  },
  {
   "cell_type": "code",
   "execution_count": 5,
   "metadata": {},
   "outputs": [
    {
     "data": {
      "text/plain": [
       "sqlite3.Connection"
      ]
     },
     "execution_count": 5,
     "metadata": {},
     "output_type": "execute_result"
    }
   ],
   "source": [
    "type(con)"
   ]
  },
  {
   "cell_type": "code",
   "execution_count": 6,
   "metadata": {},
   "outputs": [],
   "source": [
    "# Agora vamos instalar o cursor que permite percorrer os registros do banco\n",
    "cur = con.cursor()"
   ]
  },
  {
   "cell_type": "code",
   "execution_count": 7,
   "metadata": {},
   "outputs": [
    {
     "data": {
      "text/plain": [
       "sqlite3.Cursor"
      ]
     },
     "execution_count": 7,
     "metadata": {},
     "output_type": "execute_result"
    }
   ],
   "source": [
    "type(cur)"
   ]
  },
  {
   "cell_type": "code",
   "execution_count": 10,
   "metadata": {},
   "outputs": [],
   "source": [
    "# Agora vamos criar uma instrução SQL\n",
    "\n",
    "sql_create = '''CREATE TABLE cursos(\n",
    "    id INTEGER PRIMARY KEY,\n",
    "    titulo VARCHAR(100),\n",
    "    categoria VARCHAR(140)\n",
    ");'''"
   ]
  },
  {
   "cell_type": "code",
   "execution_count": 9,
   "metadata": {},
   "outputs": [
    {
     "data": {
      "text/plain": [
       "<sqlite3.Cursor at 0x24b00ef82d0>"
      ]
     },
     "execution_count": 9,
     "metadata": {},
     "output_type": "execute_result"
    }
   ],
   "source": [
    "# Executando a instrução\n",
    "cur.execute(sql_create)"
   ]
  },
  {
   "cell_type": "code",
   "execution_count": 11,
   "metadata": {},
   "outputs": [],
   "source": [
    "# Vamos inserir dados (Tipo DML)\n",
    "sql_insert = 'INSERT INTO cursos (id, titulo, categoria) VALUES (?, ?, ?);'"
   ]
  },
  {
   "cell_type": "code",
   "execution_count": 12,
   "metadata": {},
   "outputs": [],
   "source": [
    "recset = [(1000, 'Ciência de Dados', 'Data Science'),\n",
    "          (1001, 'Big Data Fundamentos', 'Big Data'),\n",
    "          (1002, 'Python Fundamentos', 'Análise de Dados')]"
   ]
  },
  {
   "cell_type": "code",
   "execution_count": 13,
   "metadata": {},
   "outputs": [],
   "source": [
    "# Inserindo agora os registros\n",
    "\n",
    "for rec in recset:\n",
    "    cur.execute(sql_insert, rec)"
   ]
  },
  {
   "cell_type": "code",
   "execution_count": 14,
   "metadata": {},
   "outputs": [],
   "source": [
    "# Grava a transação\n",
    "con.commit()"
   ]
  },
  {
   "cell_type": "code",
   "execution_count": 16,
   "metadata": {},
   "outputs": [],
   "source": [
    "# Criando uma query SQL para buscar os dados da tabela cursos\n",
    "sql_select = 'SELECT * FROM cursos;'"
   ]
  },
  {
   "cell_type": "code",
   "execution_count": 22,
   "metadata": {},
   "outputs": [],
   "source": [
    "# Seleciona todos os registros e recura os arquivos\n",
    "\n",
    "cur.execute(sql_select)\n",
    "dados = cur.fetchall()"
   ]
  },
  {
   "cell_type": "code",
   "execution_count": 21,
   "metadata": {},
   "outputs": [
    {
     "name": "stdout",
     "output_type": "stream",
     "text": [
      "(1000, 'Ciência de Dados', 'Data Science')\n",
      "Curso Id: 1000, Título: Ciência de Dados, Categoria: Data Science\n",
      "\n",
      "(1001, 'Big Data Fundamentos', 'Big Data')\n",
      "Curso Id: 1001, Título: Big Data Fundamentos, Categoria: Big Data\n",
      "\n",
      "(1002, 'Python Fundamentos', 'Análise de Dados')\n",
      "Curso Id: 1002, Título: Python Fundamentos, Categoria: Análise de Dados\n",
      "\n"
     ]
    }
   ],
   "source": [
    "# Mostra os dados\n",
    "for linha in dados:\n",
    "    print(linha)\n",
    "    print('Curso Id: %d, Título: %s, Categoria: %s\\n' % linha)"
   ]
  },
  {
   "cell_type": "code",
   "execution_count": 23,
   "metadata": {},
   "outputs": [],
   "source": [
    "# Gerando mais registros\n",
    "\n",
    "recset = [(1003, 'Gestão de Dados com MongoDB', 'Big Data'),\n",
    "          (1004, 'R Fundamentos', 'Análise de Dados')]\n",
    "\n",
    "# Inserindo registros\n",
    "for rec in recset:\n",
    "    cur.execute(sql_insert, rec)\n",
    "    \n",
    "# Gravando a transação\n",
    "con.commit()"
   ]
  },
  {
   "cell_type": "code",
   "execution_count": 25,
   "metadata": {},
   "outputs": [
    {
     "name": "stdout",
     "output_type": "stream",
     "text": [
      "(1000, 'Ciência de Dados', 'Data Science')\n",
      "Curso Id: 1000, Título: Ciência de Dados, Categoria: Data Science\n",
      "\n",
      "(1001, 'Big Data Fundamentos', 'Big Data')\n",
      "Curso Id: 1001, Título: Big Data Fundamentos, Categoria: Big Data\n",
      "\n",
      "(1002, 'Python Fundamentos', 'Análise de Dados')\n",
      "Curso Id: 1002, Título: Python Fundamentos, Categoria: Análise de Dados\n",
      "\n",
      "(1003, 'Gestão de Dados com MongoDB', 'Big Data')\n",
      "Curso Id: 1003, Título: Gestão de Dados com MongoDB, Categoria: Big Data\n",
      "\n",
      "(1004, 'R Fundamentos', 'Análise de Dados')\n",
      "Curso Id: 1004, Título: R Fundamentos, Categoria: Análise de Dados\n",
      "\n"
     ]
    }
   ],
   "source": [
    "cur.execute('SELECT * FROM cursos')\n",
    "dados = cur.fetchall()\n",
    "\n",
    "# Mostra os dados\n",
    "for linha in dados:\n",
    "    print(linha)\n",
    "    print('Curso Id: %d, Título: %s, Categoria: %s\\n' % linha)"
   ]
  },
  {
   "cell_type": "code",
   "execution_count": null,
   "metadata": {},
   "outputs": [],
   "source": [
    "# Fechando tudo\n",
    "\n",
    "cur.close()\n",
    "con.close()"
   ]
  }
 ],
 "metadata": {
  "kernelspec": {
   "display_name": "Python 3",
   "language": "python",
   "name": "python3"
  },
  "language_info": {
   "codemirror_mode": {
    "name": "ipython",
    "version": 3
   },
   "file_extension": ".py",
   "mimetype": "text/x-python",
   "name": "python",
   "nbconvert_exporter": "python",
   "pygments_lexer": "ipython3",
   "version": "3.7.5"
  }
 },
 "nbformat": 4,
 "nbformat_minor": 2
}
