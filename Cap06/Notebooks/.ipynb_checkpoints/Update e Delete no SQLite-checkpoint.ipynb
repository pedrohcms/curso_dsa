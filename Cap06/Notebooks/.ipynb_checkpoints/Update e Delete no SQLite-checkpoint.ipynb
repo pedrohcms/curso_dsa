{
 "cells": [
  {
   "cell_type": "code",
   "execution_count": 8,
   "metadata": {},
   "outputs": [],
   "source": [
    "import sqlite3\n",
    "import random\n",
    "import time\n",
    "import datetime\n",
    "\n",
    "conn = sqlite3.connect('dsa.db')\n",
    "\n",
    "cursor = conn.cursor()\n",
    "\n",
    "def createTable():\n",
    "    cursor.execute('''CREATE TABLE IF NOT EXISTS produtos (\n",
    "        id INTEGER PRIMARY KEY AUTOINCREMENT NOT NULL,\n",
    "        date TEXT,\n",
    "        prod_name TEXT, \n",
    "        valor REAL\n",
    "    )''')\n",
    "    \n",
    "def dataInsert():\n",
    "    cursor.execute(\"INSERT INTO produtos (id, date, prod_name, valor) VALUES (10, '2018-05-02 14:32:11', 'Teclado', 90)\")\n",
    "    conn.commit()\n",
    "    cursor.close()\n",
    "    conn.close()\n",
    "\n",
    "# Usando variáveis para inserir dados em uma tabela\n",
    "def dataInsertVar():\n",
    "    new_date = datetime.datetime.now()\n",
    "    new_prod_name = 'Monitor'\n",
    "    new_valor = random.randrange(50, 100) # Gerando uma valor randomico\n",
    "    cursor.execute(\"INSERT INTO produtos (date, prod_name, valor) VALUES (?, ?, ?)\", (new_date, new_prod_name, new_valor))\n",
    "    conn.commit()\n",
    "    \n",
    "def leituraTodosDados():\n",
    "    cursor.execute('SELECT * FROM produtos;')\n",
    "    for linha in cursor.fetchall():\n",
    "        print(linha)\n",
    "        \n",
    "def leituraRegistros():\n",
    "    cursor.execute('SELECT * FROM produtos WHERE valor > 60;')\n",
    "    for linha in cursor.fetchall():\n",
    "        print(linha)\n",
    "\n",
    "def leituraColunas():\n",
    "    cursor.execute('SELECT * FROM produtos')\n",
    "    for linha in cursor.fetchall():\n",
    "        print(linha[3])\n",
    "        \n",
    "# Update\n",
    "def atualizaDados():\n",
    "    cursor.execute('UPDATE produtos SET valor = 70.00 WHERE valor = 84.00')\n",
    "    conn.commit()\n",
    "    \n",
    "# DELETE\n",
    "def removeDados():\n",
    "    cursor.execute('DELETE FROM produtos WHERE valor = 57.00')\n",
    "    conn.commit()"
   ]
  },
  {
   "cell_type": "code",
   "execution_count": 9,
   "metadata": {},
   "outputs": [],
   "source": [
    "atualizaDados()"
   ]
  },
  {
   "cell_type": "code",
   "execution_count": 10,
   "metadata": {},
   "outputs": [
    {
     "name": "stdout",
     "output_type": "stream",
     "text": [
      "(10, '2018-05-02 14:32:11', 'Teclado', 90.0)\n",
      "(11, '2019-12-08 13:14:05.655753', 'Monitor', 70.0)\n",
      "(12, '2019-12-08 13:14:06.671259', 'Monitor', 62.0)\n",
      "(13, '2019-12-08 13:14:07.712729', 'Monitor', 57.0)\n",
      "(14, '2019-12-08 13:14:08.734068', 'Monitor', 57.0)\n",
      "(15, '2019-12-08 13:14:09.779019', 'Monitor', 75.0)\n",
      "(16, '2019-12-08 13:14:10.820574', 'Monitor', 79.0)\n",
      "(17, '2019-12-08 13:14:11.843391', 'Monitor', 87.0)\n",
      "(18, '2019-12-08 13:14:12.879414', 'Monitor', 74.0)\n",
      "(19, '2019-12-08 13:14:13.911163', 'Monitor', 60.0)\n",
      "(20, '2019-12-08 13:14:14.944332', 'Monitor', 76.0)\n"
     ]
    }
   ],
   "source": [
    "leituraTodosDados()"
   ]
  },
  {
   "cell_type": "code",
   "execution_count": 11,
   "metadata": {},
   "outputs": [],
   "source": [
    "removeDados()"
   ]
  },
  {
   "cell_type": "code",
   "execution_count": 12,
   "metadata": {},
   "outputs": [
    {
     "name": "stdout",
     "output_type": "stream",
     "text": [
      "(10, '2018-05-02 14:32:11', 'Teclado', 90.0)\n",
      "(11, '2019-12-08 13:14:05.655753', 'Monitor', 70.0)\n",
      "(12, '2019-12-08 13:14:06.671259', 'Monitor', 62.0)\n",
      "(15, '2019-12-08 13:14:09.779019', 'Monitor', 75.0)\n",
      "(16, '2019-12-08 13:14:10.820574', 'Monitor', 79.0)\n",
      "(17, '2019-12-08 13:14:11.843391', 'Monitor', 87.0)\n",
      "(18, '2019-12-08 13:14:12.879414', 'Monitor', 74.0)\n",
      "(19, '2019-12-08 13:14:13.911163', 'Monitor', 60.0)\n",
      "(20, '2019-12-08 13:14:14.944332', 'Monitor', 76.0)\n"
     ]
    }
   ],
   "source": [
    "leituraTodosDados()"
   ]
  }
 ],
 "metadata": {
  "kernelspec": {
   "display_name": "Python 3",
   "language": "python",
   "name": "python3"
  },
  "language_info": {
   "codemirror_mode": {
    "name": "ipython",
    "version": 3
   },
   "file_extension": ".py",
   "mimetype": "text/x-python",
   "name": "python",
   "nbconvert_exporter": "python",
   "pygments_lexer": "ipython3",
   "version": "3.7.5"
  }
 },
 "nbformat": 4,
 "nbformat_minor": 2
}
