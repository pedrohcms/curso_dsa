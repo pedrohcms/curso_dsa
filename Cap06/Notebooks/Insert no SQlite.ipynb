{
 "cells": [
  {
   "cell_type": "code",
   "execution_count": 1,
   "metadata": {},
   "outputs": [],
   "source": [
    "import os\n",
    "os.remove('dsa.db') if os.path.exists('dsa.db') else None"
   ]
  },
  {
   "cell_type": "code",
   "execution_count": 3,
   "metadata": {},
   "outputs": [],
   "source": [
    "import sqlite3\n",
    "\n",
    "# Cria a conexão\n",
    "conn = sqlite3.connect('dsa.db')\n",
    "\n",
    "# Cria o cursor\n",
    "cursor = conn.cursor()\n",
    "\n",
    "# Função para criar tabela\n",
    "def createTable():\n",
    "    cursor.execute('''CREATE TABLE IF NOT EXISTS produtos(\n",
    "        id INTEGER PRIMARY KEY AUTOINCREMENT NOT NULL,\n",
    "        date TEXT,\n",
    "        prod_name TEXT, valor REAL\n",
    "    );\n",
    "    ''')\n",
    "\n",
    "# Função para inserir uma linha\n",
    "def dataInsert():\n",
    "    cursor.execute(\"INSERT INTO produtos (id, date, prod_name, valor) VALUES (10, '2018-05-02 14:32:11', 'Teclado', 90)\")\n",
    "    conn.commit()\n",
    "    cursor.close()\n",
    "    conn.close()"
   ]
  },
  {
   "cell_type": "code",
   "execution_count": 4,
   "metadata": {},
   "outputs": [],
   "source": [
    "# Cria a tabela\n",
    "createTable()"
   ]
  },
  {
   "cell_type": "code",
   "execution_count": 5,
   "metadata": {},
   "outputs": [],
   "source": [
    "# Insere Dados\n",
    "dataInsert()"
   ]
  }
 ],
 "metadata": {
  "kernelspec": {
   "display_name": "Python 3",
   "language": "python",
   "name": "python3"
  },
  "language_info": {
   "codemirror_mode": {
    "name": "ipython",
    "version": 3
   },
   "file_extension": ".py",
   "mimetype": "text/x-python",
   "name": "python",
   "nbconvert_exporter": "python",
   "pygments_lexer": "ipython3",
   "version": "3.7.5"
  }
 },
 "nbformat": 4,
 "nbformat_minor": 2
}
