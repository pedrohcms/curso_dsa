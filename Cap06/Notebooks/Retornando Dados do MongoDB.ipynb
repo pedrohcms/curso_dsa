{
 "cells": [
  {
   "cell_type": "code",
   "execution_count": 2,
   "metadata": {},
   "outputs": [],
   "source": [
    "# Importamos o módulo pymongo\n",
    "import pymongo"
   ]
  },
  {
   "cell_type": "code",
   "execution_count": 3,
   "metadata": {},
   "outputs": [],
   "source": [
    "# Abrindo a conexão com o Mongo, nesse caso vai usar a conexão padrão\n",
    "client_con = pymongo.MongoClient()"
   ]
  },
  {
   "cell_type": "code",
   "execution_count": 6,
   "metadata": {},
   "outputs": [
    {
     "data": {
      "text/plain": [
       "['admin', 'cadastrodb', 'config', 'local']"
      ]
     },
     "execution_count": 6,
     "metadata": {},
     "output_type": "execute_result"
    }
   ],
   "source": [
    "# Vamos listar os bancos de dados disponíveis\n",
    "client_con.list_database_names()"
   ]
  },
  {
   "cell_type": "code",
   "execution_count": 7,
   "metadata": {},
   "outputs": [],
   "source": [
    "# Definimos aqui o objeto DB\n",
    "db = client_con.cadastrodb"
   ]
  },
  {
   "cell_type": "code",
   "execution_count": 10,
   "metadata": {},
   "outputs": [
    {
     "data": {
      "text/plain": [
       "['posts']"
      ]
     },
     "execution_count": 10,
     "metadata": {},
     "output_type": "execute_result"
    }
   ],
   "source": [
    "# Listando as coleções disponíveis\n",
    "db.list_collection_names()"
   ]
  },
  {
   "cell_type": "code",
   "execution_count": 11,
   "metadata": {},
   "outputs": [
    {
     "data": {
      "text/plain": [
       "Collection(Database(MongoClient(host=['localhost:27017'], document_class=dict, tz_aware=False, connect=True), 'cadastrodb'), 'mycollection')"
      ]
     },
     "execution_count": 11,
     "metadata": {},
     "output_type": "execute_result"
    }
   ],
   "source": [
    "# Vamos criar outra coleção\n",
    "\n",
    "db.create_collection(\"mycollection\")"
   ]
  },
  {
   "cell_type": "code",
   "execution_count": 12,
   "metadata": {},
   "outputs": [
    {
     "data": {
      "text/plain": [
       "['mycollection', 'posts']"
      ]
     },
     "execution_count": 12,
     "metadata": {},
     "output_type": "execute_result"
    }
   ],
   "source": [
    "db.list_collection_names()"
   ]
  },
  {
   "cell_type": "code",
   "execution_count": 13,
   "metadata": {},
   "outputs": [
    {
     "data": {
      "text/plain": [
       "<pymongo.results.InsertOneResult at 0x24ed0bd2f08>"
      ]
     },
     "execution_count": 13,
     "metadata": {},
     "output_type": "execute_result"
    }
   ],
   "source": [
    "db.mycollection.insert_one({\n",
    "    'titulo': 'MongoDB com Python',\n",
    "    'descricao': 'MongoDB é um Banco de Dados NoSQL',\n",
    "    'by': 'Data Science Academy',\n",
    "    'url': 'http://www.datascienceacademy.com.br',\n",
    "    'tags': ['mongodb', 'database', 'NoSQL'],\n",
    "    'likes': 100\n",
    "})"
   ]
  },
  {
   "cell_type": "code",
   "execution_count": 15,
   "metadata": {},
   "outputs": [
    {
     "data": {
      "text/plain": [
       "{'_id': ObjectId('5deda035cf45a1929f817b2f'),\n",
       " 'titulo': 'MongoDB com Python',\n",
       " 'descricao': 'MongoDB é um Banco de Dados NoSQL',\n",
       " 'by': 'Data Science Academy',\n",
       " 'url': 'http://www.datascienceacademy.com.br',\n",
       " 'tags': ['mongodb', 'database', 'NoSQL'],\n",
       " 'likes': 100}"
      ]
     },
     "execution_count": 15,
     "metadata": {},
     "output_type": "execute_result"
    }
   ],
   "source": [
    "# Retorna o documento criado\n",
    "db.mycollection.find_one()"
   ]
  },
  {
   "cell_type": "code",
   "execution_count": 16,
   "metadata": {},
   "outputs": [],
   "source": [
    "doc1 = {'Nome': 'Donald', 'sobrenome': 'Trump', 'twitter': '@POTUS'}"
   ]
  },
  {
   "cell_type": "code",
   "execution_count": 17,
   "metadata": {},
   "outputs": [
    {
     "data": {
      "text/plain": [
       "<pymongo.results.InsertOneResult at 0x24ed1431ec8>"
      ]
     },
     "execution_count": 17,
     "metadata": {},
     "output_type": "execute_result"
    }
   ],
   "source": [
    "db.mycollection.insert_one(doc1)"
   ]
  },
  {
   "cell_type": "code",
   "execution_count": 18,
   "metadata": {},
   "outputs": [],
   "source": [
    "doc2 = {'Site': 'http://www.datascienceacademy.com.br',\n",
    "        'Facebook': 'facebook.com/dsacademybr'}"
   ]
  },
  {
   "cell_type": "code",
   "execution_count": 19,
   "metadata": {},
   "outputs": [
    {
     "data": {
      "text/plain": [
       "<pymongo.results.InsertOneResult at 0x24ed18a3dc8>"
      ]
     },
     "execution_count": 19,
     "metadata": {},
     "output_type": "execute_result"
    }
   ],
   "source": [
    "db.mycollection.insert_one(doc2)"
   ]
  },
  {
   "cell_type": "code",
   "execution_count": 21,
   "metadata": {},
   "outputs": [
    {
     "name": "stdout",
     "output_type": "stream",
     "text": [
      "{'_id': ObjectId('5deda035cf45a1929f817b2f'), 'titulo': 'MongoDB com Python', 'descricao': 'MongoDB é um Banco de Dados NoSQL', 'by': 'Data Science Academy', 'url': 'http://www.datascienceacademy.com.br', 'tags': ['mongodb', 'database', 'NoSQL'], 'likes': 100}\n",
      "{'_id': ObjectId('5deda0a7cf45a1929f817b30'), 'Nome': 'Donald', 'sobrenome': 'Trump', 'twitter': '@POTUS'}\n",
      "{'_id': ObjectId('5deda0f2cf45a1929f817b31'), 'Site': 'http://www.datascienceacademy.com.br', 'Facebook': 'facebook.com/dsacademybr'}\n"
     ]
    }
   ],
   "source": [
    "# Retornando os documentos da coleção\n",
    "for rec in db.mycollection.find():\n",
    "    print(rec)"
   ]
  },
  {
   "cell_type": "code",
   "execution_count": 23,
   "metadata": {},
   "outputs": [],
   "source": [
    "# Conectando a uma coleção\n",
    "col = db['mycollection']"
   ]
  },
  {
   "cell_type": "code",
   "execution_count": 28,
   "metadata": {},
   "outputs": [
    {
     "data": {
      "text/plain": [
       "3"
      ]
     },
     "execution_count": 28,
     "metadata": {},
     "output_type": "execute_result"
    }
   ],
   "source": [
    "# Conta a quantidade de documentos de uma coleção\n",
    "col.estimated_document_count()"
   ]
  },
  {
   "cell_type": "code",
   "execution_count": 29,
   "metadata": {},
   "outputs": [],
   "source": [
    "# Encontrando um único documento\n",
    "redoc = col.find_one()"
   ]
  },
  {
   "cell_type": "code",
   "execution_count": 30,
   "metadata": {},
   "outputs": [
    {
     "data": {
      "text/plain": [
       "{'_id': ObjectId('5deda035cf45a1929f817b2f'),\n",
       " 'titulo': 'MongoDB com Python',\n",
       " 'descricao': 'MongoDB é um Banco de Dados NoSQL',\n",
       " 'by': 'Data Science Academy',\n",
       " 'url': 'http://www.datascienceacademy.com.br',\n",
       " 'tags': ['mongodb', 'database', 'NoSQL'],\n",
       " 'likes': 100}"
      ]
     },
     "execution_count": 30,
     "metadata": {},
     "output_type": "execute_result"
    }
   ],
   "source": [
    "redoc"
   ]
  }
 ],
 "metadata": {
  "kernelspec": {
   "display_name": "Python 3",
   "language": "python",
   "name": "python3"
  },
  "language_info": {
   "codemirror_mode": {
    "name": "ipython",
    "version": 3
   },
   "file_extension": ".py",
   "mimetype": "text/x-python",
   "name": "python",
   "nbconvert_exporter": "python",
   "pygments_lexer": "ipython3",
   "version": "3.7.5"
  }
 },
 "nbformat": 4,
 "nbformat_minor": 2
}
